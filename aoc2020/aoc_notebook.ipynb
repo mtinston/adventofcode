{
 "cells": [
  {
   "cell_type": "code",
   "execution_count": 1,
   "metadata": {},
   "outputs": [],
   "source": [
    "import os, sys\n",
    "import numpy as np\n"
   ]
  },
  {
   "cell_type": "code",
   "execution_count": 21,
   "metadata": {},
   "outputs": [],
   "source": [
    "class myError(Exception):\n",
    "    pass\n"
   ]
  },
  {
   "cell_type": "code",
   "execution_count": 22,
   "metadata": {},
   "outputs": [
    {
     "name": "stdout",
     "output_type": "stream",
     "text": [
      "Found at 14 and 58 product is 440979.0\n",
      "Found at 52, 114, and 126 product is 82498112.0\n"
     ]
    }
   ],
   "source": [
    "## Problem 1\n",
    "#Specifically, they need you to find the two entries that sum to 2020 and then multiply those two numbers together.\n",
    "dn = '/home/mike/dev/AdventOfCode/aoc2020'\n",
    "fn_input = os.path.join(dn, 'p1_input.txt')\n",
    "with open(fn_input, 'r') as fid:\n",
    "    xin = fid.read()\n",
    "y = []\n",
    "for x in xin.split('\\n'):\n",
    "    #print(x.__class__)\n",
    "    try:\n",
    "        y.append(float(x))\n",
    "    except:\n",
    "        pass\n",
    "ydata = np.array(y)\n",
    "nsy = len(ydata)\n",
    "for i1 in range(nsy-1):\n",
    "    for i2 in range(i1, nsy):\n",
    "        if ydata[i1]+ydata[i2] == 2020:\n",
    "            print('Found at {} and {} product is {}'.format(i1, i2, ydata[i1]*ydata[i2]))\n",
    "try:\n",
    "    for i1 in range(nsy-2):\n",
    "        for i2 in range(i1, nsy-1):\n",
    "            for i3 in range(i2, nsy):\n",
    "                if ydata[i1]+ydata[i2]+ydata[i3] == 2020:\n",
    "                    print('Found at {}, {}, and {} product is {}'.format(\n",
    "                        i1, i2, i3, ydata[i1]*ydata[i2]*ydata[i3]))\n",
    "                    raise myError('Big break')\n",
    "except:\n",
    "    pass\n"
   ]
  },
  {
   "cell_type": "code",
   "execution_count": 31,
   "metadata": {
    "scrolled": false
   },
   "outputs": [
    {
     "name": "stdout",
     "output_type": "stream",
     "text": [
      "1000 passwords, 410 valid, err, 694 valid\n"
     ]
    }
   ],
   "source": [
    "def check_pass(linein):\n",
    "    #1-2 p: prdpdghkckdgpl\n",
    "    ltr = linein.split(':')[0][-1]\n",
    "    pswd = linein.split(':')[-1].strip()\n",
    "    vl = linein.split('-')\n",
    "    mincount = int(float(vl[0]))\n",
    "    vll = vl[1].split(' ')\n",
    "    maxcount = int(float(vll[0]))\n",
    "    count = 0\n",
    "    for pos in range(len(pswd)):\n",
    "        if pswd[pos] == ltr:\n",
    "            count += 1\n",
    "            \n",
    "    if count >= mincount and count <= maxcount:\n",
    "        return 1\n",
    "    else:\n",
    "        return 0\n",
    "            \n",
    "def recheck_pass(linein):\n",
    "    #1-2 p: prdpdghkckdgpl\n",
    "    ltr = linein.split(':')[0][-1]\n",
    "    pswd = linein.split(':')[-1].strip()\n",
    "    vl = linein.split('-')\n",
    "    pos1 = int(float(vl[0]))\n",
    "    vll = vl[1].split(' ')\n",
    "    pos2 = int(float(vll[0]))\n",
    "    #print(linein)\n",
    "    #print(len(pswd))\n",
    "    #print('Password is {}, {}, {}, {}, {}'.format(\n",
    "    #    pswd, pos1, pos2, pswd[pos1-1],pswd[pos2-1]))\n",
    "            \n",
    "    if (pswd[pos1-1] == ltr and pswd[pos2-1] != ltr) or (pswd[pos2-1] == ltr and pswd[pos1-1] != ltr):\n",
    "        return 1\n",
    "    else:\n",
    "        return 0\n",
    "dn = '/home/mike/dev/AdventOfCode/aoc2020'\n",
    "fn_input = os.path.join(dn, 'p2_input.txt')\n",
    "ctvalid = 0\n",
    "ct2valid = 0\n",
    "ctall = 0\n",
    "with open(fn_input, 'r') as fid:\n",
    "    for i, line in enumerate(fid):\n",
    "        ctall += 1\n",
    "        ctvalid += check_pass(line)\n",
    "        ct2valid += recheck_pass(line)\n",
    "print('{} passwords, {} valid, err, {} valid'.format(ctall, ctvalid, ct2valid))"
   ]
  },
  {
   "cell_type": "code",
   "execution_count": 52,
   "metadata": {
    "scrolled": false
   },
   "outputs": [
    {
     "name": "stdout",
     "output_type": "stream",
     "text": [
      "265 trees found\n",
      "61x265x82x70x34=3154761400 trees found\n"
     ]
    }
   ],
   "source": [
    "def treecount(xin, down = 1, over = 3, idn = 0, iov = 0):\n",
    "    trees = 0\n",
    "    numrows = len(xin)\n",
    "    numcol = len(xin[0])\n",
    "    #print('{}, {}'.format(numrows, numcol))\n",
    "    while idn < numrows-1:\n",
    "        if xin[idn][iov] == '#':\n",
    "            trees += 1 \n",
    "        idn += down\n",
    "        iov += over\n",
    "        iov %= numcol\n",
    "        #print(idn, iov)\n",
    "    \n",
    "    \n",
    "    return trees\n",
    "    \n",
    "dn = '/home/mike/dev/AdventOfCode/aoc2020'\n",
    "fn_input = os.path.join(dn, 'p3_input.txt')\n",
    "with open(fn_input, 'r') as fid:\n",
    "    xin = fid.read()\n",
    "    \n",
    "trees = treecount(xin.split('\\n'))\n",
    "\n",
    "#Right 1, down 1.\n",
    "#Right 3, down 1. (This is the slope you already checked.)\n",
    "#Right 5, down 1.\n",
    "#Right 7, down 1.\n",
    "#Right 1, down 2.\n",
    "t0 = treecount(xin.split('\\n'), down = 1, over = 1)\n",
    "t1 = treecount(xin.split('\\n'), down = 1, over = 3)\n",
    "t2 = treecount(xin.split('\\n'), down = 1, over = 5)\n",
    "t3 = treecount(xin.split('\\n'), down = 1, over = 7)\n",
    "t4 = treecount(xin.split('\\n'), down = 2, over = 1)\n",
    "\n",
    "print('{} trees found'.format(trees))\n",
    "print('{}x{}x{}x{}x{}={} trees found'.format(t0,t1,t2,t3,t4,t0*t1*t2*t3*t4))"
   ]
  },
  {
   "cell_type": "code",
   "execution_count": 81,
   "metadata": {
    "scrolled": false
   },
   "outputs": [
    {
     "name": "stdout",
     "output_type": "stream",
     "text": [
      "230 valid, 156 fully\n"
     ]
    }
   ],
   "source": [
    "def psprt_valid(xst):\n",
    "    # required field\n",
    "    flds = ['byr', 'iyr', 'eyr', 'hgt', 'hcl', 'ecl', 'pid', 'cid']\n",
    "    valid = 1\n",
    "    for fld in flds[:-1]:\n",
    "        if not fld in xst:\n",
    "            valid = 0\n",
    "    return valid\n",
    "# byr (Birth Year) - four digits; at least 1920 and at most 2002.\n",
    "# iyr (Issue Year) - four digits; at least 2010 and at most 2020.\n",
    "# eyr (Expiration Year) - four digits; at least 2020 and at most 2030.\n",
    "# hgt (Height) - a number followed by either cm or in:\n",
    "# If cm, the number must be at least 150 and at most 193.\n",
    "# If in, the number must be at least 59 and at most 76.\n",
    "# hcl (Hair Color) - a # followed by exactly six characters 0-9 or a-f.\n",
    "# ecl (Eye Color) - exactly one of: amb blu brn gry grn hzl oth.\n",
    "# pid (Passport ID) - a nine-digit number, including leading zeroes.\n",
    "# cid (Country ID) - ignored, missing or not.\n",
    "def psprt_full_check(xst):\n",
    "    # required field\n",
    "    valid = 1\n",
    "    for xs in xst:\n",
    "        xvc = xs.lower().split(':')\n",
    "        if xvc[0] == 'byr':\n",
    "            if not 1920<=float(xvc[1])<=2002:\n",
    "                valid = 0\n",
    "                #print('bad byr')\n",
    "        elif xvc[0] == 'iyr':\n",
    "            if not 2010<=float(xvc[1])<=2020:\n",
    "                valid = 0\n",
    "                #print('bad iyr')\n",
    "        elif xvc[0] == 'eyr':\n",
    "            if not 2020<=float(xvc[1])<=2030:\n",
    "                valid = 0\n",
    "                #print('bad eyr')\n",
    "        elif xvc[0] == 'hgt':\n",
    "            if xvc[1].endswith('cm'):\n",
    "                if not 150<=float(xvc[1][:-2])<=193:\n",
    "                    valid = 0\n",
    "                    #print('bad hgt cm')\n",
    "            elif xvc[1].endswith('in'):\n",
    "                if not 59<=float(xvc[1][:-2])<=76:\n",
    "                    valid = 0\n",
    "                    #print('bad hgt in')\n",
    "            else:\n",
    "                valid = 0\n",
    "                #print('bad hgt')\n",
    "        elif xvc[0] == 'hcl':\n",
    "            #print(xvc[1])\n",
    "            #print(len(xvc[1]))\n",
    "            if (xvc[1].startswith('#') and len(xvc[1]) == 7):\n",
    "                try:\n",
    "                    xjnk = int(xvc[1].replace('#', '0x'), 16)\n",
    "                except:\n",
    "                    valid=0\n",
    "                    #print('bad hcl - hex')\n",
    "                    pass\n",
    "            else:\n",
    "                valid = 0\n",
    "                #print('bad hcl')\n",
    "                \n",
    "        elif xvc[0] == 'ecl':\n",
    "            if not xvc[1] in ['amb', 'blu', 'brn', 'gry', 'grn', 'hzl', 'oth']:\n",
    "                valid = 0\n",
    "                #print('bad ecl')\n",
    "        elif xvc[0] == 'pid':\n",
    "            if len(xvc[1]) == 9:\n",
    "                try:\n",
    "                    xjnk = int(xvc[1], 10)\n",
    "                except:\n",
    "                    valid=0\n",
    "                    #print('bad pid - value')\n",
    "                    pass\n",
    "            else:\n",
    "                valid = 0\n",
    "                #print('bad pid')\n",
    "        \n",
    "    return valid\n",
    "            \n",
    "\n",
    "        \n",
    "        \n",
    "    \n",
    "#     flds = ['byr', 'iyr', 'eyr', 'hgt', 'hcl', 'ecl', 'pid', 'cid']\n",
    "#     valid = 1\n",
    "#     for fld in flds[:-1]:\n",
    "#         if not fld in xst:\n",
    "#             valid = 0\n",
    "#     return valid\n",
    "    \n",
    "dn = '/home/mike/dev/AdventOfCode/aoc2020'\n",
    "fn_input = os.path.join(dn, 'p4_input.txt')\n",
    "with open(fn_input, 'r') as fid:\n",
    "    xin = fid.read()\n",
    "validcount = 0\n",
    "fullcount = 0\n",
    "badct = 0\n",
    "for xst in xin.split('\\n\\n'):\n",
    "    vchk = psprt_valid(xst.replace('\\n', ' '))\n",
    "    validcount += vchk\n",
    "    if vchk == 1:\n",
    "        fchk = psprt_full_check(xst.replace('\\n', ' ').split(' '))\n",
    "        \n",
    "        fullcount += fchk\n",
    "        if fchk == -10:\n",
    "            print(xst.replace('\\n', ' ').split(' '))\n",
    "            badct += 1\n",
    "            if badct>500:\n",
    "                raise myError('I only want 5')\n",
    "          \n",
    "            \n",
    "    \n",
    "print('{} valid, {} fully'.format(validcount, fullcount))"
   ]
  },
  {
   "cell_type": "code",
   "execution_count": 88,
   "metadata": {
    "scrolled": false
   },
   "outputs": [
    {
     "name": "stdout",
     "output_type": "stream",
     "text": [
      "Max seat is 955\n",
      "My seat is 569\n"
     ]
    }
   ],
   "source": [
    "dn = '/home/mike/dev/AdventOfCode/aoc2020'\n",
    "fn_input = os.path.join(dn, 'p5_input.txt')\n",
    "with open(fn_input, 'r') as fid:\n",
    "    xin = fid.read()\n",
    "\n",
    "    \n",
    "xint = []\n",
    "#BFFFBBFRRR\n",
    "for xv in xin[:-1].split('\\n'):\n",
    "    xint.append(int(xv.replace('B', '1').replace('F', '0').replace('R', '1').replace('L', '0'), 2))\n",
    "xseat = np.sort(np.array(xint))\n",
    "idmyseat = np.diff(xseat).argmax()\n",
    "print('Max seat is {}'.format(xseat[-1]))\n",
    "print('My seat is {}'.format(xseat[idmyseat]+1))\n",
    "                "
   ]
  },
  {
   "cell_type": "code",
   "execution_count": 85,
   "metadata": {},
   "outputs": [
    {
     "name": "stdout",
     "output_type": "stream",
     "text": [
      "\n"
     ]
    }
   ],
   "source": [
    "print(xv)"
   ]
  },
  {
   "cell_type": "code",
   "execution_count": 64,
   "metadata": {},
   "outputs": [
    {
     "name": "stdout",
     "output_type": "stream",
     "text": [
      "3735928559\n"
     ]
    }
   ],
   "source": [
    "print(int('0xdeadbeef', 0))"
   ]
  },
  {
   "cell_type": "code",
   "execution_count": null,
   "metadata": {},
   "outputs": [],
   "source": []
  }
 ],
 "metadata": {
  "kernelspec": {
   "display_name": "mypy38",
   "language": "python",
   "name": "mypy38"
  },
  "language_info": {
   "codemirror_mode": {
    "name": "ipython",
    "version": 3
   },
   "file_extension": ".py",
   "mimetype": "text/x-python",
   "name": "python",
   "nbconvert_exporter": "python",
   "pygments_lexer": "ipython3",
   "version": "3.8.3"
  }
 },
 "nbformat": 4,
 "nbformat_minor": 4
}
